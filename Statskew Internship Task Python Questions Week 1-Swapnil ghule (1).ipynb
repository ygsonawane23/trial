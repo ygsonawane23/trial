{
 "cells": [
  {
   "cell_type": "markdown",
   "id": "6359ea10",
   "metadata": {},
   "source": [
    "**Q1: Create Your own filter and reduce function same as real filter and reduce function?**"
   ]
  },
  {
   "cell_type": "markdown",
   "id": "5b38cfd1",
   "metadata": {},
   "source": [
    "**Reduce function**"
   ]
  },
  {
   "cell_type": "code",
   "execution_count": 1,
   "id": "beec0e98",
   "metadata": {
    "ExecuteTime": {
     "end_time": "2023-03-22T17:26:58.920709Z",
     "start_time": "2023-03-22T17:26:58.896722Z"
    }
   },
   "outputs": [
    {
     "name": "stdout",
     "output_type": "stream",
     "text": [
      "100\n"
     ]
    }
   ],
   "source": [
    "def myreduce(add,list_1):\n",
    "    return a\n",
    "def add(a,b):\n",
    "    return a+b\n",
    "list_1=[10,15,25,40,10]\n",
    "a=list_1[0]\n",
    "for i in range(1,len(list_1)):\n",
    "    b=list_1[i]\n",
    "    a=add(a,b)\n",
    "print(myreduce(add,list_1))"
   ]
  },
  {
   "cell_type": "markdown",
   "id": "65a26323",
   "metadata": {},
   "source": [
    "**Filter function**"
   ]
  },
  {
   "cell_type": "code",
   "execution_count": 2,
   "id": "3b6f9a7d",
   "metadata": {
    "ExecuteTime": {
     "end_time": "2023-03-22T17:26:58.951706Z",
     "start_time": "2023-03-22T17:26:58.926716Z"
    }
   },
   "outputs": [
    {
     "name": "stdout",
     "output_type": "stream",
     "text": [
      "[2, 4, 6, 8, 10]\n"
     ]
    }
   ],
   "source": [
    "def myfilter(is_even,list_2):\n",
    "    return is_even(a)\n",
    "list_2=[2,3,4,5,6,7,8,9,10]\n",
    "list_3=[]\n",
    "def is_even(a):\n",
    "    for i in list_2:\n",
    "        if i%2==0:\n",
    "            list_3.append(i)\n",
    "    print(list_3)\n",
    "myfilter(is_even,list_2)"
   ]
  },
  {
   "cell_type": "markdown",
   "id": "4bbf9b9c",
   "metadata": {},
   "source": [
    "**Q2: Move Files from one folder to another folder. By using Python. And create empty files using python.**"
   ]
  },
  {
   "cell_type": "code",
   "execution_count": 5,
   "id": "bc2e733e",
   "metadata": {
    "ExecuteTime": {
     "end_time": "2023-03-22T17:29:08.611730Z",
     "start_time": "2023-03-22T17:29:08.507730Z"
    }
   },
   "outputs": [
    {
     "ename": "Error",
     "evalue": "Destination path 'C:\\Users\\Acer\\Downloads\\unnamed.webp' already exists",
     "output_type": "error",
     "traceback": [
      "\u001b[1;31m---------------------------------------------------------------------------\u001b[0m",
      "\u001b[1;31mError\u001b[0m                                     Traceback (most recent call last)",
      "Input \u001b[1;32mIn [5]\u001b[0m, in \u001b[0;36m<cell line: 4>\u001b[1;34m()\u001b[0m\n\u001b[0;32m      1\u001b[0m \u001b[38;5;28;01mimport\u001b[39;00m \u001b[38;5;21;01mshutil\u001b[39;00m\n\u001b[0;32m      3\u001b[0m \u001b[38;5;66;03m##shutil.move(old_path, new_path)\u001b[39;00m\n\u001b[1;32m----> 4\u001b[0m \u001b[43mshutil\u001b[49m\u001b[38;5;241;43m.\u001b[39;49m\u001b[43mmove\u001b[49m\u001b[43m(\u001b[49m\u001b[38;5;124;43mr\u001b[39;49m\u001b[38;5;124;43m\"\u001b[39;49m\u001b[38;5;124;43mC:\u001b[39;49m\u001b[38;5;124;43m\\\u001b[39;49m\u001b[38;5;124;43mUsers\u001b[39;49m\u001b[38;5;124;43m\\\u001b[39;49m\u001b[38;5;124;43mAcer\u001b[39;49m\u001b[38;5;124;43m\\\u001b[39;49m\u001b[38;5;124;43mDocuments\u001b[39;49m\u001b[38;5;124;43m\\\u001b[39;49m\u001b[38;5;124;43munnamed.webp\u001b[39;49m\u001b[38;5;124;43m\"\u001b[39;49m\u001b[43m,\u001b[49m\u001b[43m \u001b[49m\u001b[38;5;124;43mr\u001b[39;49m\u001b[38;5;124;43m\"\u001b[39;49m\u001b[38;5;124;43mC:\u001b[39;49m\u001b[38;5;124;43m\\\u001b[39;49m\u001b[38;5;124;43mUsers\u001b[39;49m\u001b[38;5;124;43m\\\u001b[39;49m\u001b[38;5;124;43mAcer\u001b[39;49m\u001b[38;5;124;43m\\\u001b[39;49m\u001b[38;5;124;43mDownloads\u001b[39;49m\u001b[38;5;124;43m\"\u001b[39;49m\u001b[43m)\u001b[49m\n",
      "File \u001b[1;32mD:\\new\\lib\\shutil.py:821\u001b[0m, in \u001b[0;36mmove\u001b[1;34m(src, dst, copy_function)\u001b[0m\n\u001b[0;32m    818\u001b[0m     real_dst \u001b[38;5;241m=\u001b[39m os\u001b[38;5;241m.\u001b[39mpath\u001b[38;5;241m.\u001b[39mjoin(dst, _basename(src))\n\u001b[0;32m    820\u001b[0m     \u001b[38;5;28;01mif\u001b[39;00m os\u001b[38;5;241m.\u001b[39mpath\u001b[38;5;241m.\u001b[39mexists(real_dst):\n\u001b[1;32m--> 821\u001b[0m         \u001b[38;5;28;01mraise\u001b[39;00m Error(\u001b[38;5;124m\"\u001b[39m\u001b[38;5;124mDestination path \u001b[39m\u001b[38;5;124m'\u001b[39m\u001b[38;5;132;01m%s\u001b[39;00m\u001b[38;5;124m'\u001b[39m\u001b[38;5;124m already exists\u001b[39m\u001b[38;5;124m\"\u001b[39m \u001b[38;5;241m%\u001b[39m real_dst)\n\u001b[0;32m    822\u001b[0m \u001b[38;5;28;01mtry\u001b[39;00m:\n\u001b[0;32m    823\u001b[0m     os\u001b[38;5;241m.\u001b[39mrename(src, real_dst)\n",
      "\u001b[1;31mError\u001b[0m: Destination path 'C:\\Users\\Acer\\Downloads\\unnamed.webp' already exists"
     ]
    }
   ],
   "source": [
    "import shutil\n",
    "\n",
    "##shutil.move(old_path, new_path)\n",
    "shutil.move(r\"C:\\Users\\Acer\\Documents\\unnamed.webp\", r\"C:\\Users\\Acer\\Downloads\")"
   ]
  },
  {
   "cell_type": "code",
   "execution_count": 6,
   "id": "68b4a4bf",
   "metadata": {
    "ExecuteTime": {
     "end_time": "2023-03-22T17:31:16.947558Z",
     "start_time": "2023-03-22T17:31:16.936529Z"
    }
   },
   "outputs": [],
   "source": [
    "file = open(r\"C:\\Users\\Acer\\Documents\\myfile1.txt\", \"x\")"
   ]
  },
  {
   "cell_type": "markdown",
   "id": "ed50f4a0",
   "metadata": {},
   "source": [
    "**Q3: Delete files if the files are present in the folder otherwise pass.**"
   ]
  },
  {
   "cell_type": "code",
   "execution_count": 7,
   "id": "18ddc615",
   "metadata": {
    "ExecuteTime": {
     "end_time": "2023-03-22T17:31:19.483175Z",
     "start_time": "2023-03-22T17:31:19.444171Z"
    }
   },
   "outputs": [
    {
     "name": "stdout",
     "output_type": "stream",
     "text": [
      "Files in a directory --> ['-1.14-windows.xml', '.anaconda', '.cache', '.conda', '.condarc', '.continuum', '.ipynb_checkpoints', '.ipython', '.jupyter', '.knime', '.matplotlib', '.ms-ad', 'anaconda3', 'AppData', 'Application Data', 'AS project-Copy1.ipynb', 'austo motors.ipynb', 'casestudy for stastatics.ipynb', 'cluster_profile.csv', 'Contacts', 'Cookies', 'Desktop', 'Documents', 'Downloads', 'Favorites', 'ld_Tree_File.dot', 'ld_tree_regularized.dot', 'Links', 'Local Settings', 'mentor 2nd session.ipynb', 'ML project.ipynb', 'Music', 'My Documents', 'myfile.txt', 'NetHood', 'NTUSER.DAT', 'ntuser.dat.LOG1', 'ntuser.dat.LOG2', 'NTUSER.DAT{a2332f18-cdbf-11ec-8680-002248483d79}.TM.blf', 'NTUSER.DAT{a2332f18-cdbf-11ec-8680-002248483d79}.TMContainer00000000000000000001.regtrans-ms', 'NTUSER.DAT{a2332f18-cdbf-11ec-8680-002248483d79}.TMContainer00000000000000000002.regtrans-ms', 'ntuser.ini', 'OneDrive', 'panda dataframe.ipynb', 'Pictures', 'practice assessment.ipynb', 'PrintHood', 'Recent', 'Saved Games', 'seaborn-data', 'Searches', 'SendTo', 'Start Menu', 'Statskew Internship Task Python Questions Week 1-manish bhamare.ipynb', 'Statskew Internship Task Python Questions Week 1.ipynb', 'submission.csv', 'Templates', 'Untitled.ipynb', 'Videos']\n",
      "We can see a file created succesfully\n",
      "-----------------------------------------------------\n",
      "Favtutor file deleted using remove() function\n",
      "Current files in directory --> ['-1.14-windows.xml', '.anaconda', '.cache', '.conda', '.condarc', '.continuum', '.ipynb_checkpoints', '.ipython', '.jupyter', '.knime', '.matplotlib', '.ms-ad', 'anaconda3', 'AppData', 'Application Data', 'AS project-Copy1.ipynb', 'austo motors.ipynb', 'casestudy for stastatics.ipynb', 'cluster_profile.csv', 'Contacts', 'Cookies', 'Desktop', 'Documents', 'Downloads', 'Favorites', 'ld_Tree_File.dot', 'ld_tree_regularized.dot', 'Links', 'Local Settings', 'mentor 2nd session.ipynb', 'ML project.ipynb', 'Music', 'My Documents', 'myfile.txt', 'NetHood', 'NTUSER.DAT', 'ntuser.dat.LOG1', 'ntuser.dat.LOG2', 'NTUSER.DAT{a2332f18-cdbf-11ec-8680-002248483d79}.TM.blf', 'NTUSER.DAT{a2332f18-cdbf-11ec-8680-002248483d79}.TMContainer00000000000000000001.regtrans-ms', 'NTUSER.DAT{a2332f18-cdbf-11ec-8680-002248483d79}.TMContainer00000000000000000002.regtrans-ms', 'ntuser.ini', 'OneDrive', 'panda dataframe.ipynb', 'Pictures', 'practice assessment.ipynb', 'PrintHood', 'Recent', 'Saved Games', 'seaborn-data', 'Searches', 'SendTo', 'Start Menu', 'Statskew Internship Task Python Questions Week 1-manish bhamare.ipynb', 'Statskew Internship Task Python Questions Week 1.ipynb', 'submission.csv', 'Templates', 'Untitled.ipynb', 'Videos']\n",
      "-----------------------------------------------------\n"
     ]
    }
   ],
   "source": [
    "import os\n",
    "from pathlib import Path\n",
    "import touch\n",
    "file = r\"C:\\Users\\Acer\\Documents\\myfile1.txt\"\n",
    "Path(file).touch() #creating a new empty file\n",
    "print(\"Files in a directory -->\",os.listdir())\n",
    "print(\"We can see a file created succesfully\")\n",
    "print(\"-----------------------------------------------------\")\n",
    "# If file exists, delete it.\n",
    "if os.path.isfile(file):\n",
    "    os.remove(file)\n",
    "    print(\"Favtutor file deleted using remove() function\")\n",
    "    print(\"Current files in directory -->\",os.listdir())\n",
    "    print(\"-----------------------------------------------------\")\n",
    "else:\n",
    "    # If it fails, inform the user.\n",
    "    print(\"Error: %s file not found\" % file);"
   ]
  },
  {
   "cell_type": "markdown",
   "id": "03dbf03a",
   "metadata": {},
   "source": [
    "**Q4: Open the Json file and extract the name of the students.**"
   ]
  },
  {
   "cell_type": "code",
   "execution_count": 8,
   "id": "1b34d183",
   "metadata": {
    "ExecuteTime": {
     "end_time": "2023-03-22T17:31:28.491736Z",
     "start_time": "2023-03-22T17:31:24.788738Z"
    }
   },
   "outputs": [],
   "source": [
    "import pandas as pd"
   ]
  },
  {
   "cell_type": "code",
   "execution_count": 9,
   "id": "79c21e13",
   "metadata": {
    "ExecuteTime": {
     "end_time": "2023-03-22T17:31:29.001513Z",
     "start_time": "2023-03-22T17:31:28.915748Z"
    }
   },
   "outputs": [],
   "source": [
    "df=pd.read_json(r\"C:\\Users\\Acer\\Desktop\\task1.json\")"
   ]
  },
  {
   "cell_type": "code",
   "execution_count": 10,
   "id": "4bb967ea",
   "metadata": {
    "ExecuteTime": {
     "end_time": "2023-03-22T17:31:29.637600Z",
     "start_time": "2023-03-22T17:31:29.579620Z"
    }
   },
   "outputs": [
    {
     "data": {
      "text/html": [
       "<div>\n",
       "<style scoped>\n",
       "    .dataframe tbody tr th:only-of-type {\n",
       "        vertical-align: middle;\n",
       "    }\n",
       "\n",
       "    .dataframe tbody tr th {\n",
       "        vertical-align: top;\n",
       "    }\n",
       "\n",
       "    .dataframe thead th {\n",
       "        text-align: right;\n",
       "    }\n",
       "</style>\n",
       "<table border=\"1\" class=\"dataframe\">\n",
       "  <thead>\n",
       "    <tr style=\"text-align: right;\">\n",
       "      <th></th>\n",
       "      <th>name</th>\n",
       "      <th>phone_number</th>\n",
       "      <th>address</th>\n",
       "      <th>school_name</th>\n",
       "    </tr>\n",
       "  </thead>\n",
       "  <tbody>\n",
       "    <tr>\n",
       "      <th>0</th>\n",
       "      <td>John Smith</td>\n",
       "      <td>123-456-7890</td>\n",
       "      <td>123 Main St, Anytown USA</td>\n",
       "      <td>Anytown High School</td>\n",
       "    </tr>\n",
       "    <tr>\n",
       "      <th>1</th>\n",
       "      <td>Jane Doe</td>\n",
       "      <td>555-555-5555</td>\n",
       "      <td>456 Elm St, Anytown USA</td>\n",
       "      <td>Anytown High School</td>\n",
       "    </tr>\n",
       "    <tr>\n",
       "      <th>2</th>\n",
       "      <td>Bob Johnson</td>\n",
       "      <td>555-123-4567</td>\n",
       "      <td>789 Oak St, Anytown USA</td>\n",
       "      <td>Anytown Middle School</td>\n",
       "    </tr>\n",
       "    <tr>\n",
       "      <th>3</th>\n",
       "      <td>Emily Davis</td>\n",
       "      <td>555-789-1234</td>\n",
       "      <td>321 Maple St, Anytown USA</td>\n",
       "      <td>Anytown Elementary School</td>\n",
       "    </tr>\n",
       "    <tr>\n",
       "      <th>4</th>\n",
       "      <td>David Lee</td>\n",
       "      <td>555-444-4444</td>\n",
       "      <td>555 Pine St, Anytown USA</td>\n",
       "      <td>Anytown High School</td>\n",
       "    </tr>\n",
       "  </tbody>\n",
       "</table>\n",
       "</div>"
      ],
      "text/plain": [
       "          name  phone_number                    address  \\\n",
       "0   John Smith  123-456-7890   123 Main St, Anytown USA   \n",
       "1     Jane Doe  555-555-5555    456 Elm St, Anytown USA   \n",
       "2  Bob Johnson  555-123-4567    789 Oak St, Anytown USA   \n",
       "3  Emily Davis  555-789-1234  321 Maple St, Anytown USA   \n",
       "4    David Lee  555-444-4444   555 Pine St, Anytown USA   \n",
       "\n",
       "                 school_name  \n",
       "0        Anytown High School  \n",
       "1        Anytown High School  \n",
       "2      Anytown Middle School  \n",
       "3  Anytown Elementary School  \n",
       "4        Anytown High School  "
      ]
     },
     "execution_count": 10,
     "metadata": {},
     "output_type": "execute_result"
    }
   ],
   "source": [
    "df.head()"
   ]
  },
  {
   "cell_type": "code",
   "execution_count": 11,
   "id": "604596df",
   "metadata": {
    "ExecuteTime": {
     "end_time": "2023-03-22T17:31:30.223660Z",
     "start_time": "2023-03-22T17:31:30.204672Z"
    }
   },
   "outputs": [
    {
     "data": {
      "text/plain": [
       "0              John Smith\n",
       "1                Jane Doe\n",
       "2             Bob Johnson\n",
       "3             Emily Davis\n",
       "4               David Lee\n",
       "5      Samantha Hernandez\n",
       "6            Chris Nguyen\n",
       "7            Ashley Patel\n",
       "8            Kevin Wilson\n",
       "9             Jessica Kim\n",
       "10               Mark Lee\n",
       "11          Melissa Brown\n",
       "12            Ryan Nguyen\n",
       "13    Alexandra Hernandez\n",
       "Name: name, dtype: object"
      ]
     },
     "execution_count": 11,
     "metadata": {},
     "output_type": "execute_result"
    }
   ],
   "source": [
    "df['name']"
   ]
  },
  {
   "cell_type": "markdown",
   "id": "64d7ccf6",
   "metadata": {},
   "source": [
    "**Q5: Create a class which contains all the above functions and import this class for use. (OOPS Concept)**"
   ]
  },
  {
   "cell_type": "markdown",
   "id": "f9bc31f1",
   "metadata": {},
   "source": [
    "Can't understand the question!!"
   ]
  },
  {
   "cell_type": "markdown",
   "id": "dc30ea74",
   "metadata": {},
   "source": [
    "**Q6: Scrape mobile name, mobile price and reviews from first 20 page of flipkart.**"
   ]
  },
  {
   "cell_type": "code",
   "execution_count": 12,
   "id": "218d9a4f",
   "metadata": {
    "ExecuteTime": {
     "end_time": "2023-03-22T17:32:55.968469Z",
     "start_time": "2023-03-22T17:32:54.005336Z"
    }
   },
   "outputs": [
    {
     "name": "stdout",
     "output_type": "stream",
     "text": [
      "SAMSUNG Galaxy F04 (Jade Purple, 64 GB) ₹7,499 4.5\n",
      "POCO C55 (Cool Blue, 128 GB) ₹10,999 4.3\n",
      "Infinix SMART 7 (Emerald Green, 64 GB) ₹7,499 4.2\n"
     ]
    },
    {
     "ename": "AttributeError",
     "evalue": "'NoneType' object has no attribute 'text'",
     "output_type": "error",
     "traceback": [
      "\u001b[1;31m---------------------------------------------------------------------------\u001b[0m",
      "\u001b[1;31mAttributeError\u001b[0m                            Traceback (most recent call last)",
      "Input \u001b[1;32mIn [12]\u001b[0m, in \u001b[0;36m<cell line: 4>\u001b[1;34m()\u001b[0m\n\u001b[0;32m     11\u001b[0m name \u001b[38;5;241m=\u001b[39m mobile\u001b[38;5;241m.\u001b[39mfind(\u001b[38;5;124m'\u001b[39m\u001b[38;5;124mdiv\u001b[39m\u001b[38;5;124m'\u001b[39m, {\u001b[38;5;124m'\u001b[39m\u001b[38;5;124mclass\u001b[39m\u001b[38;5;124m'\u001b[39m: \u001b[38;5;124m'\u001b[39m\u001b[38;5;124m_4rR01T\u001b[39m\u001b[38;5;124m'\u001b[39m})\u001b[38;5;241m.\u001b[39mtext\n\u001b[0;32m     12\u001b[0m price \u001b[38;5;241m=\u001b[39m mobile\u001b[38;5;241m.\u001b[39mfind(\u001b[38;5;124m'\u001b[39m\u001b[38;5;124mdiv\u001b[39m\u001b[38;5;124m'\u001b[39m, {\u001b[38;5;124m'\u001b[39m\u001b[38;5;124mclass\u001b[39m\u001b[38;5;124m'\u001b[39m: \u001b[38;5;124m'\u001b[39m\u001b[38;5;124m_30jeq3 _1_WHN1\u001b[39m\u001b[38;5;124m'\u001b[39m})\u001b[38;5;241m.\u001b[39mtext\n\u001b[1;32m---> 13\u001b[0m rating \u001b[38;5;241m=\u001b[39m \u001b[43mmobile\u001b[49m\u001b[38;5;241;43m.\u001b[39;49m\u001b[43mfind\u001b[49m\u001b[43m(\u001b[49m\u001b[38;5;124;43m'\u001b[39;49m\u001b[38;5;124;43mdiv\u001b[39;49m\u001b[38;5;124;43m'\u001b[39;49m\u001b[43m,\u001b[49m\u001b[43m \u001b[49m\u001b[43m{\u001b[49m\u001b[38;5;124;43m'\u001b[39;49m\u001b[38;5;124;43mclass\u001b[39;49m\u001b[38;5;124;43m'\u001b[39;49m\u001b[43m:\u001b[49m\u001b[43m \u001b[49m\u001b[38;5;124;43m'\u001b[39;49m\u001b[38;5;124;43m_3LWZlK\u001b[39;49m\u001b[38;5;124;43m'\u001b[39;49m\u001b[43m}\u001b[49m\u001b[43m)\u001b[49m\u001b[38;5;241;43m.\u001b[39;49m\u001b[43mtext\u001b[49m\n\u001b[0;32m     14\u001b[0m \u001b[38;5;28mprint\u001b[39m(name, price, rating)\n",
      "\u001b[1;31mAttributeError\u001b[0m: 'NoneType' object has no attribute 'text'"
     ]
    }
   ],
   "source": [
    "import requests\n",
    "from bs4 import BeautifulSoup\n",
    "\n",
    "for page in range(1, 21):\n",
    "    url = f'https://www.flipkart.com/search?q=mobiles&page={page}'\n",
    "    res = requests.get(url)\n",
    "    soup = BeautifulSoup(res.text, 'html.parser')\n",
    "    mobiles = soup.find_all('div', {'class': '_2kHMtA'})\n",
    "    \n",
    "    for mobile in mobiles:\n",
    "        name = mobile.find('div', {'class': '_4rR01T'}).text\n",
    "        price = mobile.find('div', {'class': '_30jeq3 _1_WHN1'}).text\n",
    "        rating = mobile.find('div', {'class': '_3LWZlK'}).text\n",
    "        print(name, price, rating)"
   ]
  },
  {
   "cell_type": "markdown",
   "id": "962ee5c4",
   "metadata": {
    "ExecuteTime": {
     "end_time": "2023-03-22T06:37:29.044680Z",
     "start_time": "2023-03-22T06:37:29.028660Z"
    }
   },
   "source": [
    "**Q7: By using selenium. Create a web scrapper for scrapping any product name, product price and review from the first 50 page of flipkart and store all the data into a database like MySQL. Product name will be taken from user's side.**"
   ]
  },
  {
   "cell_type": "code",
   "execution_count": 13,
   "id": "a86578cc",
   "metadata": {
    "ExecuteTime": {
     "end_time": "2023-03-22T17:33:05.003665Z",
     "start_time": "2023-03-22T17:33:04.984663Z"
    }
   },
   "outputs": [],
   "source": [
    "class dboperation:\n",
    "    def __init__(self):\n",
    "        self.mydb =  mysql.connector.connect(host=\"127.0.0.1\",user=\"root\",password=\"Chitransh@12\",database=\"fashion_data\")\n",
    "        self.cursor = self.mydb.cursor()\n",
    "        \n",
    "    def create_database(self):#,database_name):\n",
    "        '''Use for creating database \n",
    "        create_database(database_name)\n",
    "        database_name = Give New database name\n",
    "         version:0.1\n",
    "         Author: Chitransh '''\n",
    "        #self.exist_database = database_name\n",
    "        self.cursor.execute(f'select * from fashion')\n",
    "        result = self.cursor.fetchall()\n",
    "        return pd.DataFrame(result)\n",
    "#         if self.exist_database in self.cursor:\n",
    "#                 print(\"Database is already exists\")\n",
    "        \n",
    "#         else:   \n",
    "#             try:\n",
    "#                 self.cursor.execute(f\"create database {database_name}\")\n",
    "#                 self.mydb.commit()\n",
    "#             except Exception as e:\n",
    "#                 print(e)\n",
    "        \n",
    "    def create_table(self,database_name,table_name):\n",
    "        '''Use for creating table\n",
    "        create_table(table_name,database_name)\n",
    "        table_name = Give new table name \n",
    "        database_name = Give the existing database name\n",
    "        version:0.1\n",
    "        Author: Chitransh\n",
    "        '''\n",
    "        try:\n",
    "            self.cursor.execute(f\"USE {database_name}\")\n",
    "            self.cursor.execute(f\"create table {table_name}(Index INT AUTO INCREMENT, Product_Name TEXT, Price VARCHAR(15), Rating VARCHAR(10))\")\n",
    "            self.mydb.commit()\n",
    "        except mysql.connector.Error as err:\n",
    "            if err.errno == errorcode.ER_TABLE_EXISTS_ERROR:\n",
    "                print(\"already exists.\")\n",
    "            else:\n",
    "                print(err.msg)\n",
    "    \n",
    "    def insert_data(self,database_name,table_name,value1,value2,value3):\n",
    "        '''Use for inserting values\n",
    "        insert_data(database_name,table_name,value1,value2,value3)\n",
    "        database_name = Give the existing database name\n",
    "        table_name = Give the existing table name\n",
    "        value1,value2,value3 = Give the values which you want to store in existing table and database\n",
    "        version: 0.1\n",
    "        Author: Chitransh\n",
    "        '''\n",
    "        try:\n",
    "            self.cursor.execute(f\"USE {database_name}\")\n",
    "            self.sql = f\"INSERT INTO {table_name}(Index, Product_Name, Price, Rating) VALUES(%s, %s, %s, %s)\"\n",
    "            self.value = (1, value1, value2, value3)\n",
    "            self.cursor.execute(self.sql, self.value)\n",
    "            self.mydb.commit()\n",
    "        except Exception as e:\n",
    "            print(e)"
   ]
  },
  {
   "cell_type": "code",
   "execution_count": 14,
   "id": "7c862f4a",
   "metadata": {
    "ExecuteTime": {
     "end_time": "2023-03-22T17:33:18.185469Z",
     "start_time": "2023-03-22T17:33:07.613030Z"
    }
   },
   "outputs": [
    {
     "ename": "KeyboardInterrupt",
     "evalue": "Interrupted by user",
     "output_type": "error",
     "traceback": [
      "\u001b[1;31m---------------------------------------------------------------------------\u001b[0m",
      "\u001b[1;31mKeyboardInterrupt\u001b[0m                         Traceback (most recent call last)",
      "Input \u001b[1;32mIn [14]\u001b[0m, in \u001b[0;36m<cell line: 1>\u001b[1;34m()\u001b[0m\n\u001b[1;32m----> 1\u001b[0m product_table_name \u001b[38;5;241m=\u001b[39m \u001b[38;5;28;43minput\u001b[39;49m\u001b[43m(\u001b[49m\u001b[38;5;124;43m\"\u001b[39;49m\u001b[38;5;124;43mrealme\u001b[39;49m\u001b[38;5;124;43m\"\u001b[39;49m\u001b[43m)\u001b[49m\n\u001b[0;32m      2\u001b[0m database_name \u001b[38;5;241m=\u001b[39m product_table_name \u001b[38;5;241m+\u001b[39m \u001b[38;5;124m\"\u001b[39m\u001b[38;5;124m_data\u001b[39m\u001b[38;5;124m\"\u001b[39m\n\u001b[0;32m      3\u001b[0m \u001b[38;5;66;03m# dbmanag.create_database(database_name)\u001b[39;00m\n\u001b[0;32m      4\u001b[0m \u001b[38;5;66;03m# dbmanag.create_table(database_name,product_table_name)\u001b[39;00m\n",
      "File \u001b[1;32mD:\\new\\lib\\site-packages\\ipykernel\\kernelbase.py:1075\u001b[0m, in \u001b[0;36mKernel.raw_input\u001b[1;34m(self, prompt)\u001b[0m\n\u001b[0;32m   1071\u001b[0m \u001b[38;5;28;01mif\u001b[39;00m \u001b[38;5;129;01mnot\u001b[39;00m \u001b[38;5;28mself\u001b[39m\u001b[38;5;241m.\u001b[39m_allow_stdin:\n\u001b[0;32m   1072\u001b[0m     \u001b[38;5;28;01mraise\u001b[39;00m StdinNotImplementedError(\n\u001b[0;32m   1073\u001b[0m         \u001b[38;5;124m\"\u001b[39m\u001b[38;5;124mraw_input was called, but this frontend does not support input requests.\u001b[39m\u001b[38;5;124m\"\u001b[39m\n\u001b[0;32m   1074\u001b[0m     )\n\u001b[1;32m-> 1075\u001b[0m \u001b[38;5;28;01mreturn\u001b[39;00m \u001b[38;5;28;43mself\u001b[39;49m\u001b[38;5;241;43m.\u001b[39;49m\u001b[43m_input_request\u001b[49m\u001b[43m(\u001b[49m\n\u001b[0;32m   1076\u001b[0m \u001b[43m    \u001b[49m\u001b[38;5;28;43mstr\u001b[39;49m\u001b[43m(\u001b[49m\u001b[43mprompt\u001b[49m\u001b[43m)\u001b[49m\u001b[43m,\u001b[49m\n\u001b[0;32m   1077\u001b[0m \u001b[43m    \u001b[49m\u001b[38;5;28;43mself\u001b[39;49m\u001b[38;5;241;43m.\u001b[39;49m\u001b[43m_parent_ident\u001b[49m\u001b[43m[\u001b[49m\u001b[38;5;124;43m\"\u001b[39;49m\u001b[38;5;124;43mshell\u001b[39;49m\u001b[38;5;124;43m\"\u001b[39;49m\u001b[43m]\u001b[49m\u001b[43m,\u001b[49m\n\u001b[0;32m   1078\u001b[0m \u001b[43m    \u001b[49m\u001b[38;5;28;43mself\u001b[39;49m\u001b[38;5;241;43m.\u001b[39;49m\u001b[43mget_parent\u001b[49m\u001b[43m(\u001b[49m\u001b[38;5;124;43m\"\u001b[39;49m\u001b[38;5;124;43mshell\u001b[39;49m\u001b[38;5;124;43m\"\u001b[39;49m\u001b[43m)\u001b[49m\u001b[43m,\u001b[49m\n\u001b[0;32m   1079\u001b[0m \u001b[43m    \u001b[49m\u001b[43mpassword\u001b[49m\u001b[38;5;241;43m=\u001b[39;49m\u001b[38;5;28;43;01mFalse\u001b[39;49;00m\u001b[43m,\u001b[49m\n\u001b[0;32m   1080\u001b[0m \u001b[43m\u001b[49m\u001b[43m)\u001b[49m\n",
      "File \u001b[1;32mD:\\new\\lib\\site-packages\\ipykernel\\kernelbase.py:1120\u001b[0m, in \u001b[0;36mKernel._input_request\u001b[1;34m(self, prompt, ident, parent, password)\u001b[0m\n\u001b[0;32m   1117\u001b[0m             \u001b[38;5;28;01mbreak\u001b[39;00m\n\u001b[0;32m   1118\u001b[0m \u001b[38;5;28;01mexcept\u001b[39;00m \u001b[38;5;167;01mKeyboardInterrupt\u001b[39;00m:\n\u001b[0;32m   1119\u001b[0m     \u001b[38;5;66;03m# re-raise KeyboardInterrupt, to truncate traceback\u001b[39;00m\n\u001b[1;32m-> 1120\u001b[0m     \u001b[38;5;28;01mraise\u001b[39;00m \u001b[38;5;167;01mKeyboardInterrupt\u001b[39;00m(\u001b[38;5;124m\"\u001b[39m\u001b[38;5;124mInterrupted by user\u001b[39m\u001b[38;5;124m\"\u001b[39m) \u001b[38;5;28;01mfrom\u001b[39;00m \u001b[38;5;28mNone\u001b[39m\n\u001b[0;32m   1121\u001b[0m \u001b[38;5;28;01mexcept\u001b[39;00m \u001b[38;5;167;01mException\u001b[39;00m:\n\u001b[0;32m   1122\u001b[0m     \u001b[38;5;28mself\u001b[39m\u001b[38;5;241m.\u001b[39mlog\u001b[38;5;241m.\u001b[39mwarning(\u001b[38;5;124m\"\u001b[39m\u001b[38;5;124mInvalid Message:\u001b[39m\u001b[38;5;124m\"\u001b[39m, exc_info\u001b[38;5;241m=\u001b[39m\u001b[38;5;28;01mTrue\u001b[39;00m)\n",
      "\u001b[1;31mKeyboardInterrupt\u001b[0m: Interrupted by user"
     ]
    }
   ],
   "source": [
    "product_table_name = input(\"realme\")\n",
    "database_name = product_table_name + \"_data\"\n",
    "# dbmanag.create_database(database_name)\n",
    "# dbmanag.create_table(database_name,product_table_name)\n",
    "driver = webdriver.Chrome()\n",
    "driver.get(f'https://www.flipkart.com/search?q={product_table_name}&otracker=search&otracker1=search&marketplace=FLIPKART&as-show=on&as=off&page=1')\n",
    "page_number = int(driver.find_element(By.XPATH,'//*[@class=\"_2MImiq\"]').text.split()[3])\n",
    "for i in range(1, page_number+1):\n",
    "    driver.get(f'https://www.flipkart.com/search?q={product_table_name}&otracker=search&otracker1=search&marketplace=FLIPKART&as-show=on&as=off&page={i}')\n",
    "    product_name = driver.find_elements(By.XPATH,'//*[@class=\"_4rR01T\"]')\n",
    "    price = driver.find_elements(By.XPATH,'//*[@class=\"_30jeq3 _1_WHN1\"]')\n",
    "    rating = driver.find_elements(By.XPATH,\"//*[@class='_3LWZlK']\")\n",
    "    for i in range(len(product_name)):\n",
    "        dbmanag.insert_data(database_name,product_table_name,product_name[i].text,price[i].text,rating[i].text)"
   ]
  },
  {
   "cell_type": "code",
   "execution_count": 15,
   "id": "8e963e34",
   "metadata": {
    "ExecuteTime": {
     "end_time": "2023-03-22T17:33:30.262285Z",
     "start_time": "2023-03-22T17:33:21.859387Z"
    }
   },
   "outputs": [
    {
     "ename": "KeyboardInterrupt",
     "evalue": "Interrupted by user",
     "output_type": "error",
     "traceback": [
      "\u001b[1;31m---------------------------------------------------------------------------\u001b[0m",
      "\u001b[1;31mKeyboardInterrupt\u001b[0m                         Traceback (most recent call last)",
      "Input \u001b[1;32mIn [15]\u001b[0m, in \u001b[0;36m<cell line: 1>\u001b[1;34m()\u001b[0m\n\u001b[1;32m----> 1\u001b[0m product_table_name \u001b[38;5;241m=\u001b[39m \u001b[38;5;28;43minput\u001b[39;49m\u001b[43m(\u001b[49m\u001b[38;5;124;43m\"\u001b[39;49m\u001b[38;5;124;43mrealme\u001b[39;49m\u001b[38;5;124;43m\"\u001b[39;49m\u001b[43m)\u001b[49m\n\u001b[0;32m      2\u001b[0m database_name \u001b[38;5;241m=\u001b[39m product_table_name \u001b[38;5;241m+\u001b[39m \u001b[38;5;124m\"\u001b[39m\u001b[38;5;124m_data\u001b[39m\u001b[38;5;124m\"\u001b[39m\n\u001b[0;32m      3\u001b[0m \u001b[38;5;66;03m# dbmanag.create_database(database_name)\u001b[39;00m\n\u001b[0;32m      4\u001b[0m \u001b[38;5;66;03m# dbmanag.create_table(database_name,product_table_name)\u001b[39;00m\n",
      "File \u001b[1;32mD:\\new\\lib\\site-packages\\ipykernel\\kernelbase.py:1075\u001b[0m, in \u001b[0;36mKernel.raw_input\u001b[1;34m(self, prompt)\u001b[0m\n\u001b[0;32m   1071\u001b[0m \u001b[38;5;28;01mif\u001b[39;00m \u001b[38;5;129;01mnot\u001b[39;00m \u001b[38;5;28mself\u001b[39m\u001b[38;5;241m.\u001b[39m_allow_stdin:\n\u001b[0;32m   1072\u001b[0m     \u001b[38;5;28;01mraise\u001b[39;00m StdinNotImplementedError(\n\u001b[0;32m   1073\u001b[0m         \u001b[38;5;124m\"\u001b[39m\u001b[38;5;124mraw_input was called, but this frontend does not support input requests.\u001b[39m\u001b[38;5;124m\"\u001b[39m\n\u001b[0;32m   1074\u001b[0m     )\n\u001b[1;32m-> 1075\u001b[0m \u001b[38;5;28;01mreturn\u001b[39;00m \u001b[38;5;28;43mself\u001b[39;49m\u001b[38;5;241;43m.\u001b[39;49m\u001b[43m_input_request\u001b[49m\u001b[43m(\u001b[49m\n\u001b[0;32m   1076\u001b[0m \u001b[43m    \u001b[49m\u001b[38;5;28;43mstr\u001b[39;49m\u001b[43m(\u001b[49m\u001b[43mprompt\u001b[49m\u001b[43m)\u001b[49m\u001b[43m,\u001b[49m\n\u001b[0;32m   1077\u001b[0m \u001b[43m    \u001b[49m\u001b[38;5;28;43mself\u001b[39;49m\u001b[38;5;241;43m.\u001b[39;49m\u001b[43m_parent_ident\u001b[49m\u001b[43m[\u001b[49m\u001b[38;5;124;43m\"\u001b[39;49m\u001b[38;5;124;43mshell\u001b[39;49m\u001b[38;5;124;43m\"\u001b[39;49m\u001b[43m]\u001b[49m\u001b[43m,\u001b[49m\n\u001b[0;32m   1078\u001b[0m \u001b[43m    \u001b[49m\u001b[38;5;28;43mself\u001b[39;49m\u001b[38;5;241;43m.\u001b[39;49m\u001b[43mget_parent\u001b[49m\u001b[43m(\u001b[49m\u001b[38;5;124;43m\"\u001b[39;49m\u001b[38;5;124;43mshell\u001b[39;49m\u001b[38;5;124;43m\"\u001b[39;49m\u001b[43m)\u001b[49m\u001b[43m,\u001b[49m\n\u001b[0;32m   1079\u001b[0m \u001b[43m    \u001b[49m\u001b[43mpassword\u001b[49m\u001b[38;5;241;43m=\u001b[39;49m\u001b[38;5;28;43;01mFalse\u001b[39;49;00m\u001b[43m,\u001b[49m\n\u001b[0;32m   1080\u001b[0m \u001b[43m\u001b[49m\u001b[43m)\u001b[49m\n",
      "File \u001b[1;32mD:\\new\\lib\\site-packages\\ipykernel\\kernelbase.py:1120\u001b[0m, in \u001b[0;36mKernel._input_request\u001b[1;34m(self, prompt, ident, parent, password)\u001b[0m\n\u001b[0;32m   1117\u001b[0m             \u001b[38;5;28;01mbreak\u001b[39;00m\n\u001b[0;32m   1118\u001b[0m \u001b[38;5;28;01mexcept\u001b[39;00m \u001b[38;5;167;01mKeyboardInterrupt\u001b[39;00m:\n\u001b[0;32m   1119\u001b[0m     \u001b[38;5;66;03m# re-raise KeyboardInterrupt, to truncate traceback\u001b[39;00m\n\u001b[1;32m-> 1120\u001b[0m     \u001b[38;5;28;01mraise\u001b[39;00m \u001b[38;5;167;01mKeyboardInterrupt\u001b[39;00m(\u001b[38;5;124m\"\u001b[39m\u001b[38;5;124mInterrupted by user\u001b[39m\u001b[38;5;124m\"\u001b[39m) \u001b[38;5;28;01mfrom\u001b[39;00m \u001b[38;5;28mNone\u001b[39m\n\u001b[0;32m   1121\u001b[0m \u001b[38;5;28;01mexcept\u001b[39;00m \u001b[38;5;167;01mException\u001b[39;00m:\n\u001b[0;32m   1122\u001b[0m     \u001b[38;5;28mself\u001b[39m\u001b[38;5;241m.\u001b[39mlog\u001b[38;5;241m.\u001b[39mwarning(\u001b[38;5;124m\"\u001b[39m\u001b[38;5;124mInvalid Message:\u001b[39m\u001b[38;5;124m\"\u001b[39m, exc_info\u001b[38;5;241m=\u001b[39m\u001b[38;5;28;01mTrue\u001b[39;00m)\n",
      "\u001b[1;31mKeyboardInterrupt\u001b[0m: Interrupted by user"
     ]
    }
   ],
   "source": [
    "product_table_name = input(\"realme\")\n",
    "database_name = product_table_name + \"_data\"\n",
    "# dbmanag.create_database(database_name)\n",
    "# dbmanag.create_table(database_name,product_table_name)\n",
    "driver = webdriver.Chrome()\n",
    "driver.get(f'https://www.flipkart.com/search?q={product_table_name}&otracker=search&otracker1=search&marketplace=FLIPKART&as-show=on&as=off&page=1')"
   ]
  },
  {
   "cell_type": "code",
   "execution_count": 16,
   "id": "556fc32f",
   "metadata": {
    "ExecuteTime": {
     "end_time": "2023-03-22T17:33:33.567666Z",
     "start_time": "2023-03-22T17:33:33.521666Z"
    }
   },
   "outputs": [
    {
     "ename": "NameError",
     "evalue": "name 'driver' is not defined",
     "output_type": "error",
     "traceback": [
      "\u001b[1;31m---------------------------------------------------------------------------\u001b[0m",
      "\u001b[1;31mNameError\u001b[0m                                 Traceback (most recent call last)",
      "Input \u001b[1;32mIn [16]\u001b[0m, in \u001b[0;36m<cell line: 1>\u001b[1;34m()\u001b[0m\n\u001b[1;32m----> 1\u001b[0m page_number \u001b[38;5;241m=\u001b[39m \u001b[43mdriver\u001b[49m\u001b[38;5;241m.\u001b[39mfind_element(By\u001b[38;5;241m.\u001b[39mXPATH,\u001b[38;5;124m'\u001b[39m\u001b[38;5;124m//*[@class=\u001b[39m\u001b[38;5;124m\"\u001b[39m\u001b[38;5;124m_2MImiq\u001b[39m\u001b[38;5;124m\"\u001b[39m\u001b[38;5;124m]\u001b[39m\u001b[38;5;124m'\u001b[39m)\u001b[38;5;241m.\u001b[39mtext\u001b[38;5;241m.\u001b[39msplit()[\u001b[38;5;241m3\u001b[39m]\n\u001b[0;32m      3\u001b[0m page_number\n",
      "\u001b[1;31mNameError\u001b[0m: name 'driver' is not defined"
     ]
    }
   ],
   "source": [
    "page_number = driver.find_element(By.XPATH,'//*[@class=\"_2MImiq\"]').text.split()[3]\n",
    "                  \n",
    "page_number"
   ]
  },
  {
   "cell_type": "code",
   "execution_count": null,
   "id": "65498789",
   "metadata": {},
   "outputs": [],
   "source": []
  }
 ],
 "metadata": {
  "hide_input": false,
  "kernelspec": {
   "display_name": "Python 3 (ipykernel)",
   "language": "python",
   "name": "python3"
  },
  "language_info": {
   "codemirror_mode": {
    "name": "ipython",
    "version": 3
   },
   "file_extension": ".py",
   "mimetype": "text/x-python",
   "name": "python",
   "nbconvert_exporter": "python",
   "pygments_lexer": "ipython3",
   "version": "3.9.12"
  },
  "latex_envs": {
   "LaTeX_envs_menu_present": true,
   "autoclose": false,
   "autocomplete": true,
   "bibliofile": "biblio.bib",
   "cite_by": "apalike",
   "current_citInitial": 1,
   "eqLabelWithNumbers": true,
   "eqNumInitial": 1,
   "hotkeys": {
    "equation": "Ctrl-E",
    "itemize": "Ctrl-I"
   },
   "labels_anchors": false,
   "latex_user_defs": false,
   "report_style_numbering": false,
   "user_envs_cfg": false
  },
  "nbTranslate": {
   "displayLangs": [
    "*"
   ],
   "hotkey": "alt-t",
   "langInMainMenu": true,
   "sourceLang": "en",
   "targetLang": "fr",
   "useGoogleTranslate": true
  },
  "toc": {
   "base_numbering": 1,
   "nav_menu": {},
   "number_sections": true,
   "sideBar": true,
   "skip_h1_title": false,
   "title_cell": "Table of Contents",
   "title_sidebar": "Contents",
   "toc_cell": false,
   "toc_position": {},
   "toc_section_display": true,
   "toc_window_display": false
  },
  "varInspector": {
   "cols": {
    "lenName": 16,
    "lenType": 16,
    "lenVar": 40
   },
   "kernels_config": {
    "python": {
     "delete_cmd_postfix": "",
     "delete_cmd_prefix": "del ",
     "library": "var_list.py",
     "varRefreshCmd": "print(var_dic_list())"
    },
    "r": {
     "delete_cmd_postfix": ") ",
     "delete_cmd_prefix": "rm(",
     "library": "var_list.r",
     "varRefreshCmd": "cat(var_dic_list()) "
    }
   },
   "types_to_exclude": [
    "module",
    "function",
    "builtin_function_or_method",
    "instance",
    "_Feature"
   ],
   "window_display": false
  }
 },
 "nbformat": 4,
 "nbformat_minor": 5
}
